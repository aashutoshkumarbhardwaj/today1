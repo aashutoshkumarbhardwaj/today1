{
  "nbformat": 4,
  "nbformat_minor": 0,
  "metadata": {
    "colab": {
      "provenance": [],
      "authorship_tag": "ABX9TyP39kAdPJKRK/m4jYU+qYHr",
      "include_colab_link": true
    },
    "kernelspec": {
      "name": "python3",
      "display_name": "Python 3"
    },
    "language_info": {
      "name": "python"
    }
  },
  "cells": [
    {
      "cell_type": "markdown",
      "metadata": {
        "id": "view-in-github",
        "colab_type": "text"
      },
      "source": [
        "<a href=\"https://colab.research.google.com/github/aashutoshkumarbhardwaj/today1/blob/master/day39.ipynb\" target=\"_parent\"><img src=\"https://colab.research.google.com/assets/colab-badge.svg\" alt=\"Open In Colab\"/></a>"
      ]
    },
    {
      "cell_type": "code",
      "execution_count": null,
      "metadata": {
        "id": "cxt7_ipywSWA"
      },
      "outputs": [],
      "source": [
        "import numpy as np\n",
        "import pandas as pd\n",
        "\n",
        "from sklearn.model_selection import train_test_split\n",
        "from sklearn.linear import KNNImputer ,simpleimputer\n",
        "\n",
        "from sklearn.metrics import accuracy_score"
      ]
    },
    {
      "cell_type": "code",
      "source": [
        "df=pd.read_csv('')"
      ],
      "metadata": {
        "id": "sWrsfAwM3LpA"
      },
      "execution_count": null,
      "outputs": []
    },
    {
      "cell_type": "code",
      "source": [
        "df.head();\n",
        "df.isnull().mean()*100"
      ],
      "metadata": {
        "id": "j9P23CWj4Uz4"
      },
      "execution_count": null,
      "outputs": []
    },
    {
      "cell_type": "code",
      "source": [
        "x=df.drop(columns=[''])\n",
        "y=df['']"
      ],
      "metadata": {
        "id": "LvI1rW8l4fi6"
      },
      "execution_count": null,
      "outputs": []
    },
    {
      "cell_type": "code",
      "source": [
        "x_train,x_test,y_train,y_test=train_test_split(x,y,test_size=0.2,random_state=2)"
      ],
      "metadata": {
        "id": "ChpDFfNI4laf"
      },
      "execution_count": null,
      "outputs": []
    },
    {
      "cell_type": "code",
      "source": [
        "x_train.head()"
      ],
      "metadata": {
        "id": "7T4jOYVQ4pFK"
      },
      "execution_count": null,
      "outputs": []
    },
    {
      "cell_type": "code",
      "source": [
        " kmn=KMNImputer()\n",
        " x_train_trf=kmn.fit_transform(x_train)\n",
        " x_test_trf=kmn.transform(x_test)"
      ],
      "metadata": {
        "id": "yKflZP6c4r9X"
      },
      "execution_count": null,
      "outputs": []
    },
    {
      "cell_type": "code",
      "source": [
        "pd.DataFrame(x_train_trf,columns=x_train.columns)"
      ],
      "metadata": {
        "id": "mLpMhIf_5nrp"
      },
      "execution_count": null,
      "outputs": []
    },
    {
      "cell_type": "code",
      "source": [
        "lr=LogisticRegression()\n",
        "lr.fit(x_train_trf,y_train)\n",
        "y_pred=lr.predict(x_test_trf)\n",
        "accuracy_score(y_test,y_pred)"
      ],
      "metadata": {
        "id": "9VvPcTm55p3H"
      },
      "execution_count": null,
      "outputs": []
    },
    {
      "cell_type": "code",
      "source": [
        "si=SimpleImputer()\n",
        "x_train_trf2=si.fit_transform(x_train)\n",
        "x_test_trf2=si.transform(x_test)"
      ],
      "metadata": {
        "id": "sJ31v4el5xXg"
      },
      "execution_count": null,
      "outputs": []
    },
    {
      "cell_type": "code",
      "source": [],
      "metadata": {
        "id": "aEy49PLh505H"
      },
      "execution_count": null,
      "outputs": []
    }
  ]
}